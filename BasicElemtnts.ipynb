{
  "nbformat": 4,
  "nbformat_minor": 0,
  "metadata": {
    "colab": {
      "provenance": [],
      "include_colab_link": true
    },
    "kernelspec": {
      "name": "python3",
      "display_name": "Python 3"
    }
  },
  "cells": [
    {
      "cell_type": "markdown",
      "metadata": {
        "id": "view-in-github",
        "colab_type": "text"
      },
      "source": [
        "<a href=\"https://colab.research.google.com/github/ArosevMaxim/PDA_SOL/blob/main/BasicElemtnts.ipynb\" target=\"_parent\"><img src=\"https://colab.research.google.com/assets/colab-badge.svg\" alt=\"Open In Colab\"/></a>"
      ]
    },
    {
      "cell_type": "markdown",
      "metadata": {
        "id": "bRxmqZOhWY87"
      },
      "source": [
        "# Базовые элементы Python\n",
        "\n"
      ]
    },
    {
      "cell_type": "markdown",
      "metadata": {
        "id": "zimA9OEsXOLW"
      },
      "source": [
        "### 1. Переменные\n",
        "\n",
        "**Переменные** можем рассмартивать как контейнер, который хранит часть **информации** в виде числел или текста."
      ]
    },
    {
      "cell_type": "code",
      "metadata": {
        "id": "pV1YfnLSXOq6",
        "colab": {
          "base_uri": "https://localhost:8080/"
        },
        "outputId": "5f2fe828-cb7e-4873-f277-f9819fba446e"
      },
      "source": [
        "# Сохраним в переменную число и выведем её значение на экран\n",
        "a = 14\n",
        "print(a)"
      ],
      "execution_count": 1,
      "outputs": [
        {
          "output_type": "stream",
          "name": "stdout",
          "text": [
            "14\n"
          ]
        }
      ]
    },
    {
      "cell_type": "code",
      "metadata": {
        "id": "DkD4O1acWix8",
        "colab": {
          "base_uri": "https://localhost:8080/"
        },
        "outputId": "5583611c-5cf6-4cc6-c3b5-75c3bca268bf"
      },
      "source": [
        "# Аналогчино сделаем с текстом\n",
        "b = 'Здесь записан некоторый текст'\n",
        "print(b)"
      ],
      "execution_count": 2,
      "outputs": [
        {
          "output_type": "stream",
          "name": "stdout",
          "text": [
            "Здесь записан некоторый текст\n"
          ]
        }
      ]
    },
    {
      "cell_type": "markdown",
      "metadata": {
        "id": "R0QT0wxIXggf"
      },
      "source": [
        "### 2. Действия с переменными и типы данных"
      ]
    },
    {
      "cell_type": "code",
      "metadata": {
        "id": "eEqpciAiXjCZ",
        "colab": {
          "base_uri": "https://localhost:8080/"
        },
        "outputId": "80b15750-e6aa-49f2-d93a-4033c2cb359e"
      },
      "source": [
        "# Просуммируем переменные\n",
        "a = 14\n",
        "c = 3\n",
        "d = a + c\n",
        "print(d)"
      ],
      "execution_count": 3,
      "outputs": [
        {
          "output_type": "stream",
          "name": "stdout",
          "text": [
            "17\n"
          ]
        }
      ]
    },
    {
      "cell_type": "code",
      "metadata": {
        "id": "d9w3MZg-XMqt",
        "colab": {
          "base_uri": "https://localhost:8080/"
        },
        "outputId": "18f5d468-60bb-4838-b1ac-28737586ca1a"
      },
      "source": [
        "# Либо можно сделать так\n",
        "print(a+c)"
      ],
      "execution_count": 4,
      "outputs": [
        {
          "output_type": "stream",
          "name": "stdout",
          "text": [
            "17\n"
          ]
        }
      ]
    },
    {
      "cell_type": "code",
      "metadata": {
        "id": "pPUxe1beWcDX",
        "colab": {
          "base_uri": "https://localhost:8080/"
        },
        "outputId": "0d4abda9-d5a0-4f25-ec0b-fc69cfbac608"
      },
      "source": [
        "# Можно ли изменить значение переменной?\n",
        "a = 18\n",
        "print(a)"
      ],
      "execution_count": 5,
      "outputs": [
        {
          "output_type": "stream",
          "name": "stdout",
          "text": [
            "18\n"
          ]
        }
      ]
    },
    {
      "cell_type": "code",
      "metadata": {
        "id": "ZYe3vqeQXznr",
        "colab": {
          "base_uri": "https://localhost:8080/"
        },
        "outputId": "b3168c19-dabf-4e42-f37b-021f3169d001"
      },
      "source": [
        "# Равенство переменных\n",
        "e = a\n",
        "print(e)"
      ],
      "execution_count": 6,
      "outputs": [
        {
          "output_type": "stream",
          "name": "stdout",
          "text": [
            "18\n"
          ]
        }
      ]
    },
    {
      "cell_type": "code",
      "metadata": {
        "id": "jzgNJ_MLX8a3",
        "colab": {
          "base_uri": "https://localhost:8080/"
        },
        "outputId": "a46af10d-3b58-44bd-8612-0b6c20c7f096"
      },
      "source": [
        "# Типы данных в Python\n",
        "\n",
        "# Integer (целочисленные)\n",
        "a = 1\n",
        "print(a)\n",
        "print(type(a))\n",
        "\n",
        "# Float (числа с плавающей точкой)\n",
        "a = 5.0\n",
        "print(a)\n",
        "print(type(a))\n",
        "\n",
        "# Boolean (логический тип - ИСТИНА/ЛОЖЬ)\n",
        "a = True\n",
        "print(a)\n",
        "print(type(a))\n",
        "\n",
        "# String (строковый тип)\n",
        "a = \"7\"\n",
        "print(a)\n",
        "print(type(a))"
      ],
      "execution_count": 7,
      "outputs": [
        {
          "output_type": "stream",
          "name": "stdout",
          "text": [
            "1\n",
            "<class 'int'>\n",
            "5.0\n",
            "<class 'float'>\n",
            "True\n",
            "<class 'bool'>\n",
            "7\n",
            "<class 'str'>\n"
          ]
        }
      ]
    },
    {
      "cell_type": "code",
      "metadata": {
        "id": "fzBecq7OYWl1",
        "colab": {
          "base_uri": "https://localhost:8080/"
        },
        "outputId": "b1cf2d64-3469-420c-e61c-db16fcf25b2b"
      },
      "source": [
        "# Обращайте внимание на операции с разными типами данных\n",
        "\n",
        "x = 15\n",
        "y = 4\n",
        "z = x + y\n",
        "print(z)\n",
        "print(type(z))\n",
        "\n",
        "# string variables\n",
        "x = \"1\"\n",
        "y = \"2\"\n",
        "z = x + y\n",
        "print(z)\n",
        "print(type(z))"
      ],
      "execution_count": 8,
      "outputs": [
        {
          "output_type": "stream",
          "name": "stdout",
          "text": [
            "19\n",
            "<class 'int'>\n",
            "12\n",
            "<class 'str'>\n"
          ]
        }
      ]
    },
    {
      "cell_type": "markdown",
      "metadata": {
        "id": "WDOkE_pGY8j_"
      },
      "source": [
        "### 3. Списки\n",
        "**Списки** очень полезны в программировании. Их тоже можно сравнить с контейнерами, но с разными отсеками, где каждый отсек хранит другую переменную."
      ]
    },
    {
      "cell_type": "code",
      "metadata": {
        "id": "ePI9jV8gZP3Y",
        "colab": {
          "base_uri": "https://localhost:8080/"
        },
        "outputId": "41f62859-e845-4f69-8093-b47fcb34ba47"
      },
      "source": [
        "# Простой массив из целых чисел в виде списка в Python\n",
        "a = [1,2,3]\n",
        "print(a)"
      ],
      "execution_count": 9,
      "outputs": [
        {
          "output_type": "stream",
          "name": "stdout",
          "text": [
            "[1, 2, 3]\n"
          ]
        }
      ]
    },
    {
      "cell_type": "code",
      "metadata": {
        "id": "2CEfuPglZDex",
        "colab": {
          "base_uri": "https://localhost:8080/"
        },
        "outputId": "e52f7a4c-8e3d-48bb-f0c7-3a81ee11e755"
      },
      "source": [
        "# Можно хранить переменные разных типов\n",
        "b =  [\"Text\", 4, 2.5]\n",
        "print(b)"
      ],
      "execution_count": 10,
      "outputs": [
        {
          "output_type": "stream",
          "name": "stdout",
          "text": [
            "['Text', 4, 2.5]\n"
          ]
        }
      ]
    },
    {
      "cell_type": "code",
      "metadata": {
        "id": "pYkAvDCSYuXy",
        "colab": {
          "base_uri": "https://localhost:8080/"
        },
        "outputId": "abd72d6a-52e0-4e09-e245-6ce3f3aec15b"
      },
      "source": [
        "# Использование индексов списков для получения определенных элементов массива\n",
        "\n",
        "# Как вывести каждый элемент списка отдельно?\n",
        "print(a[0])\n",
        "print(a[1])\n",
        "print(a[2])\n",
        "# Индексы в списках нумеруются числами, начиная с 0. Т.е. список, в котором 3 элемента, имеет индекса 0, 1 и 2."
      ],
      "execution_count": 11,
      "outputs": [
        {
          "output_type": "stream",
          "name": "stdout",
          "text": [
            "1\n",
            "2\n",
            "3\n"
          ]
        }
      ]
    },
    {
      "cell_type": "code",
      "metadata": {
        "id": "r2yL5VOMZ2xA",
        "colab": {
          "base_uri": "https://localhost:8080/"
        },
        "outputId": "ba729d4b-741a-4110-d68d-9bbf0cc5d7db"
      },
      "source": [
        "# Добавление большего количества элементов в список\n",
        "\n",
        "a.append(4)\n",
        "print(a)"
      ],
      "execution_count": 12,
      "outputs": [
        {
          "output_type": "stream",
          "name": "stdout",
          "text": [
            "[1, 2, 3, 4]\n"
          ]
        }
      ]
    },
    {
      "cell_type": "code",
      "metadata": {
        "id": "PkLqatC9Z9b1",
        "colab": {
          "base_uri": "https://localhost:8080/"
        },
        "outputId": "e1e499e5-b423-4794-b36d-5cce591142b5"
      },
      "source": [
        "# Определение количества элементов в списке\n",
        "print(len(a))"
      ],
      "execution_count": 13,
      "outputs": [
        {
          "output_type": "stream",
          "name": "stdout",
          "text": [
            "4\n"
          ]
        }
      ]
    },
    {
      "cell_type": "code",
      "metadata": {
        "id": "8YqFs7x7aFiJ",
        "colab": {
          "base_uri": "https://localhost:8080/"
        },
        "outputId": "f1af9612-84cc-42bb-9e87-7278cfba0ad1"
      },
      "source": [
        "# Изменение значения элемента в списке\n",
        "\n",
        "a[3] = 5\n",
        "print(a)"
      ],
      "execution_count": 14,
      "outputs": [
        {
          "output_type": "stream",
          "name": "stdout",
          "text": [
            "[1, 2, 3, 5]\n"
          ]
        }
      ]
    },
    {
      "cell_type": "code",
      "metadata": {
        "id": "ASXqbJojaNcI",
        "colab": {
          "base_uri": "https://localhost:8080/"
        },
        "outputId": "644eac04-0bd9-4dd6-8de6-3b44d36e4879"
      },
      "source": [
        "# Нарезка списков-это метод, используемый для получения элементов из различных индексов, до них или между ними\n",
        "\n",
        "# Обратите внимание:\n",
        "\n",
        "#a[start:stop]  # нарезка списка начинается с элемента start до элемента stop-1\n",
        "#a[start:]      # нарезка списка начинается с элемента start до последнего элемента в массиве\n",
        "#a[:stop]       # нарезка списка начинается с начального элемента до элемента stop-1\n",
        "#a[:]           # копия целого списка\n",
        "\n",
        "print(\"Все элементы: \", a[:])\n",
        "print(\"Все элементы с 3й позиции до последнего: \", a[2:])\n",
        "print(\"Все элементы между 2й и 4й позицией: \", a[1:3])\n",
        "print(\"Все элементы, кроме последнего\", a[:-1])"
      ],
      "execution_count": 15,
      "outputs": [
        {
          "output_type": "stream",
          "name": "stdout",
          "text": [
            "Все элементы:  [1, 2, 3, 5]\n",
            "Все элементы с 3й позиции до последнего:  [3, 5]\n",
            "Все элементы между 2й и 4й позицией:  [2, 3]\n",
            "Все элементы, кроме последнего [1, 2, 3]\n"
          ]
        }
      ]
    },
    {
      "cell_type": "markdown",
      "metadata": {
        "id": "X4TL4IY0dwpL"
      },
      "source": [
        "## 4. Словари\n",
        "**Словари** это объекты, которые хранят пару значений \"ключ:значение\"."
      ]
    },
    {
      "cell_type": "code",
      "metadata": {
        "id": "QK9owVwta_vz",
        "colab": {
          "base_uri": "https://localhost:8080/"
        },
        "outputId": "1fa0f6a8-dc27-4b04-961a-3622f33040d3"
      },
      "source": [
        "# Создаем словарь\n",
        "country_info = {\"name\": \"Japan\",\n",
        "        \"capital\": \"Tokyo\"}\n",
        "\n",
        "print(country_info)\n",
        "print(country_info[\"name\"])\n",
        "print(country_info[\"capital\"])"
      ],
      "execution_count": 16,
      "outputs": [
        {
          "output_type": "stream",
          "name": "stdout",
          "text": [
            "{'name': 'Japan', 'capital': 'Tokyo'}\n",
            "Japan\n",
            "Tokyo\n"
          ]
        }
      ]
    },
    {
      "cell_type": "code",
      "metadata": {
        "id": "D57XXUTFeoA2",
        "colab": {
          "base_uri": "https://localhost:8080/"
        },
        "outputId": "a7a80aff-eda9-4290-f489-4367bb7dd86d"
      },
      "source": [
        "# Мы можем сохранить несколько переменных и их значений и добавлять новую информацию в словарь\n",
        "\n",
        "country_info['population'] = '126.8M'\n",
        "print(country_info)"
      ],
      "execution_count": 17,
      "outputs": [
        {
          "output_type": "stream",
          "name": "stdout",
          "text": [
            "{'name': 'Japan', 'capital': 'Tokyo', 'population': '126.8M'}\n"
          ]
        }
      ]
    },
    {
      "cell_type": "code",
      "metadata": {
        "id": "-YxNH48re-JW",
        "colab": {
          "base_uri": "https://localhost:8080/"
        },
        "outputId": "dd2d3da5-fd50-42f3-c495-f44e399d5f0a"
      },
      "source": [
        "# Также просто мы можем менять значение переменных\n",
        "\n",
        "country_info['population'] = '100M'\n",
        "print(country_info)"
      ],
      "execution_count": 18,
      "outputs": [
        {
          "output_type": "stream",
          "name": "stdout",
          "text": [
            "{'name': 'Japan', 'capital': 'Tokyo', 'population': '100M'}\n"
          ]
        }
      ]
    },
    {
      "cell_type": "code",
      "metadata": {
        "id": "EY0CFm0yfMhl",
        "colab": {
          "base_uri": "https://localhost:8080/"
        },
        "outputId": "caeee3d3-9913-40e7-b4d7-d43ac9ec5974"
      },
      "source": [
        "# Значения могут быть любых типов данных\n",
        "\n",
        "country_info['regions'] = ['Hokkaido', 'Tohoku', 'Kanto', 'Chubu', 'Kinki', 'Chugoku', 'Shikoku', 'Kyushu-Okinawa']\n",
        "print(country_info)"
      ],
      "execution_count": 19,
      "outputs": [
        {
          "output_type": "stream",
          "name": "stdout",
          "text": [
            "{'name': 'Japan', 'capital': 'Tokyo', 'population': '100M', 'regions': ['Hokkaido', 'Tohoku', 'Kanto', 'Chubu', 'Kinki', 'Chugoku', 'Shikoku', 'Kyushu-Okinawa']}\n"
          ]
        }
      ]
    },
    {
      "cell_type": "code",
      "metadata": {
        "id": "AvpiV2SRftmu",
        "colab": {
          "base_uri": "https://localhost:8080/"
        },
        "outputId": "090e3349-cbf5-496c-e334-ed5bd56712bb"
      },
      "source": [
        "# Можно также создавть вложенные словари\n",
        "\n",
        "country_info['health'] = {\"life_expectancy\": 84.1, \"birth_rate\": 1.44}\n",
        "print(country_info)"
      ],
      "execution_count": 20,
      "outputs": [
        {
          "output_type": "stream",
          "name": "stdout",
          "text": [
            "{'name': 'Japan', 'capital': 'Tokyo', 'population': '100M', 'regions': ['Hokkaido', 'Tohoku', 'Kanto', 'Chubu', 'Kinki', 'Chugoku', 'Shikoku', 'Kyushu-Okinawa'], 'health': {'life_expectancy': 84.1, 'birth_rate': 1.44}}\n"
          ]
        }
      ]
    },
    {
      "cell_type": "code",
      "metadata": {
        "id": "TDCk7sg2dK1p",
        "colab": {
          "base_uri": "https://localhost:8080/"
        },
        "outputId": "29ddf7a8-8e29-4b92-88a5-38c8a636e686"
      },
      "source": [
        "print(country_info)"
      ],
      "execution_count": 21,
      "outputs": [
        {
          "output_type": "stream",
          "name": "stdout",
          "text": [
            "{'name': 'Japan', 'capital': 'Tokyo', 'population': '100M', 'regions': ['Hokkaido', 'Tohoku', 'Kanto', 'Chubu', 'Kinki', 'Chugoku', 'Shikoku', 'Kyushu-Okinawa'], 'health': {'life_expectancy': 84.1, 'birth_rate': 1.44}}\n"
          ]
        }
      ]
    },
    {
      "cell_type": "code",
      "metadata": {
        "id": "wYaLR6ALgnIq",
        "colab": {
          "base_uri": "https://localhost:8080/"
        },
        "outputId": "96b83e2e-7124-41a2-b99e-7b99b65898c0"
      },
      "source": [
        "# Доступ к данным вложенного словаря\n",
        "\n",
        "country_info['health']['life_expectancy']"
      ],
      "execution_count": 22,
      "outputs": [
        {
          "output_type": "execute_result",
          "data": {
            "text/plain": [
              "84.1"
            ]
          },
          "metadata": {},
          "execution_count": 22
        }
      ]
    },
    {
      "cell_type": "code",
      "metadata": {
        "id": "J1xtocJrdsbj",
        "colab": {
          "base_uri": "https://localhost:8080/"
        },
        "outputId": "4d0999d1-3ca4-4fec-f760-084dc6c9c56e"
      },
      "source": [
        "country_info.values()"
      ],
      "execution_count": 23,
      "outputs": [
        {
          "output_type": "execute_result",
          "data": {
            "text/plain": [
              "dict_values(['Japan', 'Tokyo', '100M', ['Hokkaido', 'Tohoku', 'Kanto', 'Chubu', 'Kinki', 'Chugoku', 'Shikoku', 'Kyushu-Okinawa'], {'life_expectancy': 84.1, 'birth_rate': 1.44}])"
            ]
          },
          "metadata": {},
          "execution_count": 23
        }
      ]
    },
    {
      "cell_type": "markdown",
      "metadata": {
        "id": "tBMyCaI4gzu9"
      },
      "source": [
        "# 5. Операторы условий - If & Else\n",
        "\n",
        "Операторы if окажутся неоценимыми в программировании при работе с ситуациями, когда необходимо проводить вычисления в зависимости от разных условий."
      ]
    },
    {
      "cell_type": "code",
      "metadata": {
        "id": "p180-t79gtHU",
        "colab": {
          "base_uri": "https://localhost:8080/"
        },
        "outputId": "120f52a0-8e26-406b-f058-0d0606e86cd2"
      },
      "source": [
        "# Использование оператора if\n",
        "\n",
        "x = 19\n",
        "\n",
        "if x < 10:\n",
        "    print(\"меньше 10\")\n",
        "else:\n",
        "  print(\"больше или равно 10\")"
      ],
      "execution_count": 24,
      "outputs": [
        {
          "output_type": "stream",
          "name": "stdout",
          "text": [
            "больше или равно 10\n"
          ]
        }
      ]
    },
    {
      "cell_type": "code",
      "metadata": {
        "id": "dFFVcDaAhuhn",
        "colab": {
          "base_uri": "https://localhost:8080/"
        },
        "outputId": "597f6d17-3234-45b7-cfb1-0afa5397956b"
      },
      "source": [
        "x = 29\n",
        "\n",
        "if x < 10:\n",
        "    print(\"меньше 10\")\n",
        "elif x > 10 and x <= 19:\n",
        "    print(\"больше 10, но меньше 20\")\n",
        "else:\n",
        "    print(\"больше или равно 20\")"
      ],
      "execution_count": 25,
      "outputs": [
        {
          "output_type": "stream",
          "name": "stdout",
          "text": [
            "больше или равно 20\n"
          ]
        }
      ]
    },
    {
      "cell_type": "code",
      "metadata": {
        "id": "NQv4SZENhgLV",
        "colab": {
          "base_uri": "https://localhost:8080/"
        },
        "outputId": "dece7e64-1cff-46bc-ef94-5b5ef1ebb0cc"
      },
      "source": [
        "# Использование логических значений операторов условий\n",
        "\n",
        "a = True\n",
        "if a:\n",
        "  print(\"утверждение верное\")"
      ],
      "execution_count": 26,
      "outputs": [
        {
          "output_type": "stream",
          "name": "stdout",
          "text": [
            "утверждение верное\n"
          ]
        }
      ]
    },
    {
      "cell_type": "markdown",
      "metadata": {
        "id": "kLg-FVSMiall"
      },
      "source": [
        "# 6. Циклы\n",
        "\n",
        "Циклы-это еще один бесценный инструмент в программировании, давайте рассмотрим несколько способов реализации циклов в Python"
      ]
    },
    {
      "cell_type": "code",
      "metadata": {
        "id": "ZZ5ogCPfiYI6",
        "colab": {
          "base_uri": "https://localhost:8080/"
        },
        "outputId": "384dca70-efb9-4e22-bc9d-49ff2963690e"
      },
      "source": [
        "# Использование функции range\n",
        "\n",
        "print(list(range(5)))\n",
        "\n",
        "# Либо так\n",
        "\n",
        "print(list(range(1,5)))"
      ],
      "execution_count": 27,
      "outputs": [
        {
          "output_type": "stream",
          "name": "stdout",
          "text": [
            "[0, 1, 2, 3, 4]\n",
            "[1, 2, 3, 4]\n"
          ]
        }
      ]
    },
    {
      "cell_type": "code",
      "metadata": {
        "id": "JBU80c3oipiM",
        "colab": {
          "base_uri": "https://localhost:8080/"
        },
        "outputId": "dbbaccd3-dee0-4853-a197-2373f2da695e"
      },
      "source": [
        "for i in range(0,5):\n",
        "  print(i)"
      ],
      "execution_count": 28,
      "outputs": [
        {
          "output_type": "stream",
          "name": "stdout",
          "text": [
            "0\n",
            "1\n",
            "2\n",
            "3\n",
            "4\n"
          ]
        }
      ]
    },
    {
      "cell_type": "code",
      "metadata": {
        "id": "5M3Hw2J_i9Rr",
        "colab": {
          "base_uri": "https://localhost:8080/"
        },
        "outputId": "cd565a74-4fee-48bd-86e2-2ed8b7c8e333"
      },
      "source": [
        "# С помощью циклов в питоне можно напрямую перебирать элементы в списке\n",
        "\n",
        "items = ['a','b', 'c', 'd']\n",
        "for item in items:\n",
        "  print(item)"
      ],
      "execution_count": 29,
      "outputs": [
        {
          "output_type": "stream",
          "name": "stdout",
          "text": [
            "a\n",
            "b\n",
            "c\n",
            "d\n"
          ]
        }
      ]
    },
    {
      "cell_type": "code",
      "metadata": {
        "id": "RLmP9dWPjpho",
        "colab": {
          "base_uri": "https://localhost:8080/"
        },
        "outputId": "b3be7f5b-3b22-4162-b2b8-e0f7c5f0e7b7"
      },
      "source": [
        "# Увеличение значения переменных в цикле и сохранение их в списке\n",
        "\n",
        "x = 0\n",
        "collecting_values_of_x = []\n",
        "\n",
        "items = ['a','b', 'c', 'd']\n",
        "for item in items:\n",
        "  x += 1\n",
        "  print(x, item)\n",
        "  collecting_values_of_x.append(x)\n",
        "\n",
        "print(collecting_values_of_x)"
      ],
      "execution_count": 30,
      "outputs": [
        {
          "output_type": "stream",
          "name": "stdout",
          "text": [
            "1 a\n",
            "2 b\n",
            "3 c\n",
            "4 d\n",
            "[1, 2, 3, 4]\n"
          ]
        }
      ]
    },
    {
      "cell_type": "code",
      "metadata": {
        "id": "m7PHFl_9jZOY",
        "colab": {
          "base_uri": "https://localhost:8080/"
        },
        "outputId": "b648ea28-6453-40e8-87a6-0f4372ba8ed7"
      },
      "source": [
        "# Реализация циклов с помощью оператора While\n",
        "\n",
        "x = 0\n",
        "while x < 5:\n",
        "    x += 1\n",
        "    print(x)"
      ],
      "execution_count": 31,
      "outputs": [
        {
          "output_type": "stream",
          "name": "stdout",
          "text": [
            "1\n",
            "2\n",
            "3\n",
            "4\n",
            "5\n"
          ]
        }
      ]
    },
    {
      "cell_type": "code",
      "metadata": {
        "id": "QV9S4x-xkEWW",
        "colab": {
          "base_uri": "https://localhost:8080/"
        },
        "outputId": "f043c721-f1bb-4db7-db97-b5738b9506b6"
      },
      "source": [
        "x = 0\n",
        "while True:\n",
        "    if x == 5:\n",
        "      break\n",
        "    x += 1\n",
        "    print(x)"
      ],
      "execution_count": 32,
      "outputs": [
        {
          "output_type": "stream",
          "name": "stdout",
          "text": [
            "1\n",
            "2\n",
            "3\n",
            "4\n",
            "5\n"
          ]
        }
      ]
    },
    {
      "cell_type": "markdown",
      "metadata": {
        "id": "x7i46vgQkvJs"
      },
      "source": [
        "# 7. Функции\n",
        "\n",
        "**Функции** чрезвычайно полезны при создании фрагментов кода, которые вы хотите вызывать или использовать несколько раз"
      ]
    },
    {
      "cell_type": "code",
      "metadata": {
        "id": "Jt_UfXekkVBG"
      },
      "source": [
        "# Простая функция для возврата площади круга\n",
        "\n",
        "def areaCircle(radius):\n",
        "  area = 3.14 * (radius**2)\n",
        "  return area\n"
      ],
      "execution_count": 33,
      "outputs": []
    },
    {
      "cell_type": "code",
      "metadata": {
        "id": "GLyvb1VplEDr",
        "colab": {
          "base_uri": "https://localhost:8080/"
        },
        "outputId": "950eaaa0-0254-4ab5-8c56-d09a69664deb"
      },
      "source": [
        "areaCircle(2)"
      ],
      "execution_count": 34,
      "outputs": [
        {
          "output_type": "execute_result",
          "data": {
            "text/plain": [
              "12.56"
            ]
          },
          "metadata": {},
          "execution_count": 34
        }
      ]
    },
    {
      "cell_type": "code",
      "metadata": {
        "id": "QtzNLj7FlFz4"
      },
      "source": [
        "# Более сложные варианты функций - объем цилиндра\n",
        "\n",
        "def volumeCylinder(radius, height):\n",
        "  volume = 3.14 * radius**2 * height\n",
        "  return volume"
      ],
      "execution_count": 35,
      "outputs": []
    },
    {
      "cell_type": "code",
      "metadata": {
        "id": "OGYfKiqdv-Ma",
        "colab": {
          "base_uri": "https://localhost:8080/"
        },
        "outputId": "b4e4900c-3f72-440a-8f89-3572cec96d08"
      },
      "source": [
        "volumeCylinder(radius = 5, height = 6)"
      ],
      "execution_count": 36,
      "outputs": [
        {
          "output_type": "execute_result",
          "data": {
            "text/plain": [
              "471.0"
            ]
          },
          "metadata": {},
          "execution_count": 36
        }
      ]
    },
    {
      "cell_type": "code",
      "metadata": {
        "id": "swh6MO3plI0b"
      },
      "source": [
        "# Функции с дефолтными аргументами\n",
        "\n",
        "def volumeCylinder(radius, height = 3):\n",
        "  volume = 3.14 * radius**2 * height\n",
        "  return volume"
      ],
      "execution_count": 37,
      "outputs": []
    },
    {
      "cell_type": "code",
      "metadata": {
        "id": "qH6howJ_s94T",
        "colab": {
          "base_uri": "https://localhost:8080/"
        },
        "outputId": "03fc4019-63c8-4b8d-c6c2-eb69c308a50b"
      },
      "source": [
        "volumeCylinder(5)"
      ],
      "execution_count": 38,
      "outputs": [
        {
          "output_type": "execute_result",
          "data": {
            "text/plain": [
              "235.5"
            ]
          },
          "metadata": {},
          "execution_count": 38
        }
      ]
    },
    {
      "cell_type": "code",
      "metadata": {
        "id": "wwRxu_Eys-HM",
        "colab": {
          "base_uri": "https://localhost:8080/"
        },
        "outputId": "861ca6d6-700b-4f8e-f1ce-63d050d23098"
      },
      "source": [
        "volumeCylinder(5,10)"
      ],
      "execution_count": 39,
      "outputs": [
        {
          "output_type": "execute_result",
          "data": {
            "text/plain": [
              "785.0"
            ]
          },
          "metadata": {},
          "execution_count": 39
        }
      ]
    }
  ]
}