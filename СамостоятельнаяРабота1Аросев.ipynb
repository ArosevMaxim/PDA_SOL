{
  "nbformat": 4,
  "nbformat_minor": 0,
  "metadata": {
    "colab": {
      "provenance": [],
      "authorship_tag": "ABX9TyPsTU6Wl4XQPLaUHBs7aSxY",
      "include_colab_link": true
    },
    "kernelspec": {
      "name": "python3",
      "display_name": "Python 3"
    },
    "language_info": {
      "name": "python"
    }
  },
  "cells": [
    {
      "cell_type": "markdown",
      "metadata": {
        "id": "view-in-github",
        "colab_type": "text"
      },
      "source": [
        "<a href=\"https://colab.research.google.com/github/ArosevMaxim/PDA_SOL/blob/main/%D0%A1%D0%B0%D0%BC%D0%BE%D1%81%D1%82%D0%BE%D1%8F%D1%82%D0%B5%D0%BB%D1%8C%D0%BD%D0%B0%D1%8F%D0%A0%D0%B0%D0%B1%D0%BE%D1%82%D0%B01%D0%90%D1%80%D0%BE%D1%81%D0%B5%D0%B2.ipynb\" target=\"_parent\"><img src=\"https://colab.research.google.com/assets/colab-badge.svg\" alt=\"Open In Colab\"/></a>"
      ]
    },
    {
      "cell_type": "markdown",
      "source": [
        "Задание 1. Написать цикл для выведения на экран каждой буквы своего ФИО\n",
        "\n"
      ],
      "metadata": {
        "id": "3wTJBWvAYr6N"
      }
    },
    {
      "cell_type": "code",
      "execution_count": 2,
      "metadata": {
        "id": "VCeS-LWXIuBR",
        "colab": {
          "base_uri": "https://localhost:8080/"
        },
        "outputId": "9116bd64-b4be-4471-c6f0-668d5edba9f0"
      },
      "outputs": [
        {
          "output_type": "stream",
          "name": "stdout",
          "text": [
            "А\n",
            "р\n",
            "о\n",
            "с\n",
            "е\n",
            "в\n",
            " \n",
            "М\n",
            "а\n",
            "к\n",
            "с\n",
            "и\n",
            "м\n",
            " \n",
            "Г\n",
            "е\n",
            "о\n",
            "р\n",
            "г\n",
            "и\n",
            "е\n",
            "в\n",
            "и\n",
            "ч\n"
          ]
        }
      ],
      "source": [
        "name = 'Аросев Максим Георгиевич'\n",
        "for a in name:\n",
        "  print(a)"
      ]
    },
    {
      "cell_type": "markdown",
      "source": [
        "Задание 2. Написать функцию для перевода рубля в йену c округлением до 2х знаков после запятой"
      ],
      "metadata": {
        "id": "F8DM6RJ9Yvwr"
      }
    },
    {
      "cell_type": "code",
      "source": [
        "def func1(a):\n",
        "    exchange_rate = 0.6388  # текущий курс йены к рублю\n",
        "    b = a * exchange_rate\n",
        "    return round(b, 2) # округление до 2 знаков\n",
        "\n",
        "func1(547)"
      ],
      "metadata": {
        "colab": {
          "base_uri": "https://localhost:8080/"
        },
        "id": "czEDDchRYovn",
        "outputId": "26a88f37-0054-4879-c63d-df1ee5996e3b"
      },
      "execution_count": 4,
      "outputs": [
        {
          "output_type": "execute_result",
          "data": {
            "text/plain": [
              "349.42"
            ]
          },
          "metadata": {},
          "execution_count": 4
        }
      ]
    }
  ]
}