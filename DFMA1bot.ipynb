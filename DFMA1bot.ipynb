{
  "nbformat": 4,
  "nbformat_minor": 0,
  "metadata": {
    "colab": {
      "provenance": [],
      "mount_file_id": "18UXZMIcNuSbpbnQh6US1qG9FA7mfRFa2",
      "authorship_tag": "ABX9TyO9ZdkUEmLvzfJtkwjanOK8",
      "include_colab_link": true
    },
    "kernelspec": {
      "name": "python3",
      "display_name": "Python 3"
    },
    "language_info": {
      "name": "python"
    }
  },
  "cells": [
    {
      "cell_type": "markdown",
      "metadata": {
        "id": "view-in-github",
        "colab_type": "text"
      },
      "source": [
        "<a href=\"https://colab.research.google.com/github/ArosevMaxim/PDA_SOL/blob/main/DFMA1bot.ipynb\" target=\"_parent\"><img src=\"https://colab.research.google.com/assets/colab-badge.svg\" alt=\"Open In Colab\"/></a>"
      ]
    },
    {
      "cell_type": "code",
      "execution_count": 1,
      "metadata": {
        "colab": {
          "base_uri": "https://localhost:8080/"
        },
        "id": "kzD1JVlcsyQy",
        "outputId": "59379f1e-49a9-47d5-cbab-fbf6e0d105cf"
      },
      "outputs": [
        {
          "output_type": "stream",
          "name": "stdout",
          "text": [
            "\u001b[2K     \u001b[90m━━━━━━━━━━━━━━━━━━━━━━━━━━━━━━━━━━━━━━━━\u001b[0m \u001b[32m510.8/510.8 kB\u001b[0m \u001b[31m10.8 MB/s\u001b[0m eta \u001b[36m0:00:00\u001b[0m\n",
            "\u001b[2K     \u001b[90m━━━━━━━━━━━━━━━━━━━━━━━━━━━━━━━━━━━━━━━━\u001b[0m \u001b[32m381.9/381.9 kB\u001b[0m \u001b[31m15.3 MB/s\u001b[0m eta \u001b[36m0:00:00\u001b[0m\n",
            "\u001b[2K     \u001b[90m━━━━━━━━━━━━━━━━━━━━━━━━━━━━━━━━━━━━━━━━\u001b[0m \u001b[32m2.1/2.1 MB\u001b[0m \u001b[31m24.5 MB/s\u001b[0m eta \u001b[36m0:00:00\u001b[0m\n",
            "\u001b[?25h\u001b[31mERROR: pip's dependency resolver does not currently take into account all the packages that are installed. This behaviour is the source of the following dependency conflicts.\n",
            "lida 0.0.10 requires fastapi, which is not installed.\n",
            "lida 0.0.10 requires kaleido, which is not installed.\n",
            "lida 0.0.10 requires python-multipart, which is not installed.\n",
            "lida 0.0.10 requires uvicorn, which is not installed.\n",
            "llmx 0.0.15a0 requires cohere, which is not installed.\n",
            "llmx 0.0.15a0 requires openai, which is not installed.\n",
            "llmx 0.0.15a0 requires tiktoken, which is not installed.\n",
            "tensorflow-probability 0.22.0 requires typing-extensions<4.6.0, but you have typing-extensions 4.9.0 which is incompatible.\u001b[0m\u001b[31m\n",
            "\u001b[0m"
          ]
        }
      ],
      "source": [
        "!pip3 -q install nest_asyncio\n",
        "!pip3 -q install aiogram"
      ]
    },
    {
      "cell_type": "code",
      "source": [
        "import logging\n",
        "import asyncio\n",
        "from aiogram import Bot, Dispatcher, types\n",
        "from aiogram.filters import CommandStart, Command, StateFilter\n",
        "from aiogram.fsm.state import State, StatesGroup\n",
        "from aiogram.enums import ParseMode\n",
        "from aiogram.types import InlineKeyboardButton, InlineKeyboardMarkup, FSInputFile, KeyboardButton\n",
        "from aiogram.utils.keyboard import InlineKeyboardBuilder, ReplyKeyboardBuilder\n",
        "from aiogram.fsm.context import FSMContext\n",
        "from aiogram import F\n",
        "import uuid\n",
        "import sys\n",
        "import time, json, io"
      ],
      "metadata": {
        "id": "3qvM3mBqs4aq"
      },
      "execution_count": 14,
      "outputs": []
    },
    {
      "cell_type": "code",
      "source": [
        "import nest_asyncio\n",
        "\n",
        "nest_asyncio.apply()"
      ],
      "metadata": {
        "id": "4TYHBHJEtXcs"
      },
      "execution_count": 3,
      "outputs": []
    },
    {
      "cell_type": "code",
      "source": [
        "TOKEN = \"6704974851:AAF12_-5FaZqc3pEwhKqdi7qXaVUhBF-QJg\"\n",
        "logging.basicConfig(level=logging.INFO, stream=sys.stdout)\n",
        "\n",
        "\n",
        "dp = Dispatcher()\n",
        "bot = Bot(TOKEN, parse_mode=ParseMode.HTML)\n",
        "\n",
        "# Переменные для сообщения \"О нас\"\n",
        "photo = FSInputFile('/content/drive/MyDrive/DFMA/DFMA1.jpg') # Фото\n",
        "caption = \"<b>Это демо бот</b>\\nЕго цель - презентовать возможности библиотеки aiogram\\n\\n<i>Сделал Аросев Максим</i>\" # Текст с фото, с жирным шрифтом и курсивом\n",
        "\n",
        "available_genders = ['мужчина', 'женщина']\n",
        "\n",
        "class Gender(StatesGroup):\n",
        "    waiting_for_gender = State()\n",
        "\n",
        "IKB1 = InlineKeyboardBuilder()\n",
        "Btn1 = types.InlineKeyboardButton(text=\"О нас\", callback_data=\"btn1\")\n",
        "Btn2 = types.InlineKeyboardButton(text=\"Ваш пол\", callback_data=\"btn2\")\n",
        "IKB1.add(Btn1, Btn2)\n",
        "\n",
        "\n",
        "kbm = [[types.KeyboardButton(text=\"Побриться\"),\n",
        "       types.KeyboardButton(text=\"Бухнуть\")],]\n",
        "keyboardm = types.ReplyKeyboardMarkup(\n",
        "        keyboard=kbm,\n",
        "        resize_keyboard=True,\n",
        "        input_field_placeholder=\"Выберите действие\")\n",
        "\n",
        "kbf = [[types.KeyboardButton(text=\"Купить духи\"),\n",
        "       types.KeyboardButton(text=\"Сходить на маникюр\")],]\n",
        "keyboardf = types.ReplyKeyboardMarkup(\n",
        "        keyboard=kbf,\n",
        "        resize_keyboard=True,\n",
        "        input_field_placeholder=\"Выберите действие\")\n",
        "\n",
        "\n",
        "@dp.message(CommandStart())\n",
        "async def send_welcome(message: types.Message):\n",
        "    await message.answer(f'Здравствуй {message.from_user.first_name}. \\n\\nВыбери одну из двух кнопок:', reply_markup=IKB1.as_markup())\n",
        "\n",
        "@dp.callback_query(F.data.startswith(\"btn\"))\n",
        "async def process_callback_button(callback_query: types.CallbackQuery, state: FSMContext):\n",
        "    data = callback_query.data\n",
        "    if data == 'btn1':\n",
        "        await bot.send_photo(callback_query.from_user.id, photo, caption = caption, parse_mode=ParseMode.HTML) # Отправляем сообщение с фото, жирным шрифтом\n",
        "    elif data == 'btn2':\n",
        "        await bot.send_message(callback_query.from_user.id, 'Введите ваш пол')\n",
        "        await state.set_state(Gender.waiting_for_gender)\n",
        "\n",
        "@dp.message(Gender.waiting_for_gender, F.text.in_(available_genders))\n",
        "async def process_gender(message: types.Message, state: FSMContext):\n",
        "    await state.update_data(chosen_gender=message.text.lower())\n",
        "    if message.text == \"мужчина\":\n",
        "        await message.answer(\"Что вы хотете сделать?\", reply_markup=keyboardm)\n",
        "        await state.set_state()\n",
        "    elif message.text == \"женщина\":\n",
        "        await message.answer(\"Что вы хотите сделать?\", reply_markup=keyboardf)\n",
        "        await state.set_state()\n",
        "        return\n",
        "\n",
        "\n",
        "@dp.message(StateFilter(\"Gender:waiting_for_gender\"))\n",
        "async def gender_incorrectly(message: types.Message):\n",
        "    await message.answer(text=\"Пол введен неверно, введите одно из двух: мужчина или женщина\")\n",
        "\n",
        "async def main() -> None:\n",
        "    # And the run events dispatching\n",
        "    await dp.start_polling(bot)\n",
        "\n",
        "if __name__ == \"__main__\":\n",
        "    asyncio.run(main())"
      ],
      "metadata": {
        "colab": {
          "base_uri": "https://localhost:8080/"
        },
        "id": "lGnsUnSs0J7j",
        "outputId": "a7c9190f-b4b3-448f-b581-de545766f29e"
      },
      "execution_count": 21,
      "outputs": [
        {
          "output_type": "stream",
          "name": "stderr",
          "text": [
            "WARNING:aiogram.dispatcher:Received SIGINT signal\n"
          ]
        }
      ]
    }
  ]
}